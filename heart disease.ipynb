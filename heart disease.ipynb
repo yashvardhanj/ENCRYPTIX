{
 "cells": [
  {
   "cell_type": "code",
   "execution_count": 1,
   "id": "40b2fc58",
   "metadata": {
    "_cell_guid": "b1076dfc-b9ad-4769-8c92-a6c4dae69d19",
    "_uuid": "8f2839f25d086af736a60e9eeb907d3b93b6e0e5",
    "execution": {
     "iopub.execute_input": "2024-05-21T09:25:19.721573Z",
     "iopub.status.busy": "2024-05-21T09:25:19.720664Z",
     "iopub.status.idle": "2024-05-21T09:25:20.705118Z",
     "shell.execute_reply": "2024-05-21T09:25:20.703867Z"
    },
    "papermill": {
     "duration": 0.993011,
     "end_time": "2024-05-21T09:25:20.707708",
     "exception": false,
     "start_time": "2024-05-21T09:25:19.714697",
     "status": "completed"
    },
    "tags": []
   },
   "outputs": [
    {
     "name": "stdout",
     "output_type": "stream",
     "text": [
      "/kaggle/input/heart-disease-dataset/documentation.pdf\n",
      "/kaggle/input/heart-disease-dataset/heart_statlog_cleveland_hungary_final.csv\n"
     ]
    }
   ],
   "source": [
    "# This Python 3 environment comes with many helpful analytics libraries installed\n",
    "# It is defined by the kaggle/python Docker image: https://github.com/kaggle/docker-python\n",
    "# For example, here's several helpful packages to load\n",
    "\n",
    "import numpy as np # linear algebra\n",
    "import pandas as pd # data processing, CSV file I/O (e.g. pd.read_csv)\n",
    "\n",
    "# Input data files are available in the read-only \"../input/\" directory\n",
    "# For example, running this (by clicking run or pressing Shift+Enter) will list all files under the input directory\n",
    "\n",
    "import os\n",
    "for dirname, _, filenames in os.walk('/kaggle/input'):\n",
    "    for filename in filenames:\n",
    "        print(os.path.join(dirname, filename))\n",
    "\n",
    "# You can write up to 20GB to the current directory (/kaggle/working/) that gets preserved as output when you create a version using \"Save & Run All\" \n",
    "# You can also write temporary files to /kaggle/temp/, but they won't be saved outside of the current session"
   ]
  },
  {
   "cell_type": "code",
   "execution_count": 2,
   "id": "5be02cce",
   "metadata": {
    "execution": {
     "iopub.execute_input": "2024-05-21T09:25:20.717328Z",
     "iopub.status.busy": "2024-05-21T09:25:20.716820Z",
     "iopub.status.idle": "2024-05-21T09:25:20.738124Z",
     "shell.execute_reply": "2024-05-21T09:25:20.737275Z"
    },
    "papermill": {
     "duration": 0.028611,
     "end_time": "2024-05-21T09:25:20.740384",
     "exception": false,
     "start_time": "2024-05-21T09:25:20.711773",
     "status": "completed"
    },
    "tags": []
   },
   "outputs": [],
   "source": [
    "db=pd.read_csv(\"/kaggle/input/heart-disease-dataset/heart_statlog_cleveland_hungary_final.csv\")"
   ]
  },
  {
   "cell_type": "code",
   "execution_count": 3,
   "id": "198550ee",
   "metadata": {
    "execution": {
     "iopub.execute_input": "2024-05-21T09:25:20.749412Z",
     "iopub.status.busy": "2024-05-21T09:25:20.749015Z",
     "iopub.status.idle": "2024-05-21T09:25:20.777064Z",
     "shell.execute_reply": "2024-05-21T09:25:20.775765Z"
    },
    "papermill": {
     "duration": 0.03541,
     "end_time": "2024-05-21T09:25:20.779610",
     "exception": false,
     "start_time": "2024-05-21T09:25:20.744200",
     "status": "completed"
    },
    "tags": []
   },
   "outputs": [
    {
     "data": {
      "text/html": [
       "<div>\n",
       "<style scoped>\n",
       "    .dataframe tbody tr th:only-of-type {\n",
       "        vertical-align: middle;\n",
       "    }\n",
       "\n",
       "    .dataframe tbody tr th {\n",
       "        vertical-align: top;\n",
       "    }\n",
       "\n",
       "    .dataframe thead th {\n",
       "        text-align: right;\n",
       "    }\n",
       "</style>\n",
       "<table border=\"1\" class=\"dataframe\">\n",
       "  <thead>\n",
       "    <tr style=\"text-align: right;\">\n",
       "      <th></th>\n",
       "      <th>age</th>\n",
       "      <th>sex</th>\n",
       "      <th>chest pain type</th>\n",
       "      <th>resting bp s</th>\n",
       "      <th>cholesterol</th>\n",
       "      <th>fasting blood sugar</th>\n",
       "      <th>resting ecg</th>\n",
       "      <th>max heart rate</th>\n",
       "      <th>exercise angina</th>\n",
       "      <th>oldpeak</th>\n",
       "      <th>ST slope</th>\n",
       "      <th>target</th>\n",
       "    </tr>\n",
       "  </thead>\n",
       "  <tbody>\n",
       "    <tr>\n",
       "      <th>0</th>\n",
       "      <td>40</td>\n",
       "      <td>1</td>\n",
       "      <td>2</td>\n",
       "      <td>140</td>\n",
       "      <td>289</td>\n",
       "      <td>0</td>\n",
       "      <td>0</td>\n",
       "      <td>172</td>\n",
       "      <td>0</td>\n",
       "      <td>0.0</td>\n",
       "      <td>1</td>\n",
       "      <td>0</td>\n",
       "    </tr>\n",
       "    <tr>\n",
       "      <th>1</th>\n",
       "      <td>49</td>\n",
       "      <td>0</td>\n",
       "      <td>3</td>\n",
       "      <td>160</td>\n",
       "      <td>180</td>\n",
       "      <td>0</td>\n",
       "      <td>0</td>\n",
       "      <td>156</td>\n",
       "      <td>0</td>\n",
       "      <td>1.0</td>\n",
       "      <td>2</td>\n",
       "      <td>1</td>\n",
       "    </tr>\n",
       "    <tr>\n",
       "      <th>2</th>\n",
       "      <td>37</td>\n",
       "      <td>1</td>\n",
       "      <td>2</td>\n",
       "      <td>130</td>\n",
       "      <td>283</td>\n",
       "      <td>0</td>\n",
       "      <td>1</td>\n",
       "      <td>98</td>\n",
       "      <td>0</td>\n",
       "      <td>0.0</td>\n",
       "      <td>1</td>\n",
       "      <td>0</td>\n",
       "    </tr>\n",
       "    <tr>\n",
       "      <th>3</th>\n",
       "      <td>48</td>\n",
       "      <td>0</td>\n",
       "      <td>4</td>\n",
       "      <td>138</td>\n",
       "      <td>214</td>\n",
       "      <td>0</td>\n",
       "      <td>0</td>\n",
       "      <td>108</td>\n",
       "      <td>1</td>\n",
       "      <td>1.5</td>\n",
       "      <td>2</td>\n",
       "      <td>1</td>\n",
       "    </tr>\n",
       "    <tr>\n",
       "      <th>4</th>\n",
       "      <td>54</td>\n",
       "      <td>1</td>\n",
       "      <td>3</td>\n",
       "      <td>150</td>\n",
       "      <td>195</td>\n",
       "      <td>0</td>\n",
       "      <td>0</td>\n",
       "      <td>122</td>\n",
       "      <td>0</td>\n",
       "      <td>0.0</td>\n",
       "      <td>1</td>\n",
       "      <td>0</td>\n",
       "    </tr>\n",
       "  </tbody>\n",
       "</table>\n",
       "</div>"
      ],
      "text/plain": [
       "   age  sex  chest pain type  resting bp s  cholesterol  fasting blood sugar  \\\n",
       "0   40    1                2           140          289                    0   \n",
       "1   49    0                3           160          180                    0   \n",
       "2   37    1                2           130          283                    0   \n",
       "3   48    0                4           138          214                    0   \n",
       "4   54    1                3           150          195                    0   \n",
       "\n",
       "   resting ecg  max heart rate  exercise angina  oldpeak  ST slope  target  \n",
       "0            0             172                0      0.0         1       0  \n",
       "1            0             156                0      1.0         2       1  \n",
       "2            1              98                0      0.0         1       0  \n",
       "3            0             108                1      1.5         2       1  \n",
       "4            0             122                0      0.0         1       0  "
      ]
     },
     "execution_count": 3,
     "metadata": {},
     "output_type": "execute_result"
    }
   ],
   "source": [
    "db.head()"
   ]
  },
  {
   "cell_type": "code",
   "execution_count": 4,
   "id": "d9a26f31",
   "metadata": {
    "execution": {
     "iopub.execute_input": "2024-05-21T09:25:20.789790Z",
     "iopub.status.busy": "2024-05-21T09:25:20.788963Z",
     "iopub.status.idle": "2024-05-21T09:25:20.796590Z",
     "shell.execute_reply": "2024-05-21T09:25:20.795208Z"
    },
    "papermill": {
     "duration": 0.015469,
     "end_time": "2024-05-21T09:25:20.799118",
     "exception": false,
     "start_time": "2024-05-21T09:25:20.783649",
     "status": "completed"
    },
    "tags": []
   },
   "outputs": [
    {
     "data": {
      "text/plain": [
       "(1190, 12)"
      ]
     },
     "execution_count": 4,
     "metadata": {},
     "output_type": "execute_result"
    }
   ],
   "source": [
    "db.shape"
   ]
  },
  {
   "cell_type": "code",
   "execution_count": 5,
   "id": "f0b166d7",
   "metadata": {
    "execution": {
     "iopub.execute_input": "2024-05-21T09:25:20.810285Z",
     "iopub.status.busy": "2024-05-21T09:25:20.809624Z",
     "iopub.status.idle": "2024-05-21T09:25:20.819702Z",
     "shell.execute_reply": "2024-05-21T09:25:20.818691Z"
    },
    "papermill": {
     "duration": 0.018373,
     "end_time": "2024-05-21T09:25:20.822216",
     "exception": false,
     "start_time": "2024-05-21T09:25:20.803843",
     "status": "completed"
    },
    "tags": []
   },
   "outputs": [],
   "source": [
    "X=db.drop(columns=[\"target\"])\n",
    "y=db[\"target\"]"
   ]
  },
  {
   "cell_type": "code",
   "execution_count": 6,
   "id": "2bc4d3da",
   "metadata": {
    "execution": {
     "iopub.execute_input": "2024-05-21T09:25:20.833342Z",
     "iopub.status.busy": "2024-05-21T09:25:20.832172Z",
     "iopub.status.idle": "2024-05-21T09:25:22.266546Z",
     "shell.execute_reply": "2024-05-21T09:25:22.265519Z"
    },
    "papermill": {
     "duration": 1.44311,
     "end_time": "2024-05-21T09:25:22.269541",
     "exception": false,
     "start_time": "2024-05-21T09:25:20.826431",
     "status": "completed"
    },
    "tags": []
   },
   "outputs": [],
   "source": [
    "from sklearn.model_selection import train_test_split\n",
    "X_train, X_test, y_train, y_test = train_test_split(X, y, test_size=0.20, random_state=42)"
   ]
  },
  {
   "cell_type": "code",
   "execution_count": 7,
   "id": "2150d4d6",
   "metadata": {
    "execution": {
     "iopub.execute_input": "2024-05-21T09:25:22.280466Z",
     "iopub.status.busy": "2024-05-21T09:25:22.279824Z",
     "iopub.status.idle": "2024-05-21T09:25:22.401365Z",
     "shell.execute_reply": "2024-05-21T09:25:22.400025Z"
    },
    "papermill": {
     "duration": 0.130192,
     "end_time": "2024-05-21T09:25:22.404130",
     "exception": false,
     "start_time": "2024-05-21T09:25:22.273938",
     "status": "completed"
    },
    "tags": []
   },
   "outputs": [],
   "source": [
    "from sklearn.linear_model import LogisticRegression\n",
    "my_model=LogisticRegression(random_state=42,max_iter=1000)"
   ]
  },
  {
   "cell_type": "code",
   "execution_count": 8,
   "id": "32288341",
   "metadata": {
    "execution": {
     "iopub.execute_input": "2024-05-21T09:25:22.415023Z",
     "iopub.status.busy": "2024-05-21T09:25:22.414610Z",
     "iopub.status.idle": "2024-05-21T09:25:22.656410Z",
     "shell.execute_reply": "2024-05-21T09:25:22.655099Z"
    },
    "papermill": {
     "duration": 0.251221,
     "end_time": "2024-05-21T09:25:22.659605",
     "exception": false,
     "start_time": "2024-05-21T09:25:22.408384",
     "status": "completed"
    },
    "tags": []
   },
   "outputs": [
    {
     "data": {
      "text/html": [
       "<style>#sk-container-id-1 {color: black;background-color: white;}#sk-container-id-1 pre{padding: 0;}#sk-container-id-1 div.sk-toggleable {background-color: white;}#sk-container-id-1 label.sk-toggleable__label {cursor: pointer;display: block;width: 100%;margin-bottom: 0;padding: 0.3em;box-sizing: border-box;text-align: center;}#sk-container-id-1 label.sk-toggleable__label-arrow:before {content: \"▸\";float: left;margin-right: 0.25em;color: #696969;}#sk-container-id-1 label.sk-toggleable__label-arrow:hover:before {color: black;}#sk-container-id-1 div.sk-estimator:hover label.sk-toggleable__label-arrow:before {color: black;}#sk-container-id-1 div.sk-toggleable__content {max-height: 0;max-width: 0;overflow: hidden;text-align: left;background-color: #f0f8ff;}#sk-container-id-1 div.sk-toggleable__content pre {margin: 0.2em;color: black;border-radius: 0.25em;background-color: #f0f8ff;}#sk-container-id-1 input.sk-toggleable__control:checked~div.sk-toggleable__content {max-height: 200px;max-width: 100%;overflow: auto;}#sk-container-id-1 input.sk-toggleable__control:checked~label.sk-toggleable__label-arrow:before {content: \"▾\";}#sk-container-id-1 div.sk-estimator input.sk-toggleable__control:checked~label.sk-toggleable__label {background-color: #d4ebff;}#sk-container-id-1 div.sk-label input.sk-toggleable__control:checked~label.sk-toggleable__label {background-color: #d4ebff;}#sk-container-id-1 input.sk-hidden--visually {border: 0;clip: rect(1px 1px 1px 1px);clip: rect(1px, 1px, 1px, 1px);height: 1px;margin: -1px;overflow: hidden;padding: 0;position: absolute;width: 1px;}#sk-container-id-1 div.sk-estimator {font-family: monospace;background-color: #f0f8ff;border: 1px dotted black;border-radius: 0.25em;box-sizing: border-box;margin-bottom: 0.5em;}#sk-container-id-1 div.sk-estimator:hover {background-color: #d4ebff;}#sk-container-id-1 div.sk-parallel-item::after {content: \"\";width: 100%;border-bottom: 1px solid gray;flex-grow: 1;}#sk-container-id-1 div.sk-label:hover label.sk-toggleable__label {background-color: #d4ebff;}#sk-container-id-1 div.sk-serial::before {content: \"\";position: absolute;border-left: 1px solid gray;box-sizing: border-box;top: 0;bottom: 0;left: 50%;z-index: 0;}#sk-container-id-1 div.sk-serial {display: flex;flex-direction: column;align-items: center;background-color: white;padding-right: 0.2em;padding-left: 0.2em;position: relative;}#sk-container-id-1 div.sk-item {position: relative;z-index: 1;}#sk-container-id-1 div.sk-parallel {display: flex;align-items: stretch;justify-content: center;background-color: white;position: relative;}#sk-container-id-1 div.sk-item::before, #sk-container-id-1 div.sk-parallel-item::before {content: \"\";position: absolute;border-left: 1px solid gray;box-sizing: border-box;top: 0;bottom: 0;left: 50%;z-index: -1;}#sk-container-id-1 div.sk-parallel-item {display: flex;flex-direction: column;z-index: 1;position: relative;background-color: white;}#sk-container-id-1 div.sk-parallel-item:first-child::after {align-self: flex-end;width: 50%;}#sk-container-id-1 div.sk-parallel-item:last-child::after {align-self: flex-start;width: 50%;}#sk-container-id-1 div.sk-parallel-item:only-child::after {width: 0;}#sk-container-id-1 div.sk-dashed-wrapped {border: 1px dashed gray;margin: 0 0.4em 0.5em 0.4em;box-sizing: border-box;padding-bottom: 0.4em;background-color: white;}#sk-container-id-1 div.sk-label label {font-family: monospace;font-weight: bold;display: inline-block;line-height: 1.2em;}#sk-container-id-1 div.sk-label-container {text-align: center;}#sk-container-id-1 div.sk-container {/* jupyter's `normalize.less` sets `[hidden] { display: none; }` but bootstrap.min.css set `[hidden] { display: none !important; }` so we also need the `!important` here to be able to override the default hidden behavior on the sphinx rendered scikit-learn.org. See: https://github.com/scikit-learn/scikit-learn/issues/21755 */display: inline-block !important;position: relative;}#sk-container-id-1 div.sk-text-repr-fallback {display: none;}</style><div id=\"sk-container-id-1\" class=\"sk-top-container\"><div class=\"sk-text-repr-fallback\"><pre>LogisticRegression(max_iter=1000, random_state=42)</pre><b>In a Jupyter environment, please rerun this cell to show the HTML representation or trust the notebook. <br />On GitHub, the HTML representation is unable to render, please try loading this page with nbviewer.org.</b></div><div class=\"sk-container\" hidden><div class=\"sk-item\"><div class=\"sk-estimator sk-toggleable\"><input class=\"sk-toggleable__control sk-hidden--visually\" id=\"sk-estimator-id-1\" type=\"checkbox\" checked><label for=\"sk-estimator-id-1\" class=\"sk-toggleable__label sk-toggleable__label-arrow\">LogisticRegression</label><div class=\"sk-toggleable__content\"><pre>LogisticRegression(max_iter=1000, random_state=42)</pre></div></div></div></div></div>"
      ],
      "text/plain": [
       "LogisticRegression(max_iter=1000, random_state=42)"
      ]
     },
     "execution_count": 8,
     "metadata": {},
     "output_type": "execute_result"
    }
   ],
   "source": [
    "my_model.fit(X_train,y_train)"
   ]
  },
  {
   "cell_type": "code",
   "execution_count": 9,
   "id": "2d982b2c",
   "metadata": {
    "execution": {
     "iopub.execute_input": "2024-05-21T09:25:22.676746Z",
     "iopub.status.busy": "2024-05-21T09:25:22.675933Z",
     "iopub.status.idle": "2024-05-21T09:25:22.696329Z",
     "shell.execute_reply": "2024-05-21T09:25:22.695071Z"
    },
    "papermill": {
     "duration": 0.033515,
     "end_time": "2024-05-21T09:25:22.700189",
     "exception": false,
     "start_time": "2024-05-21T09:25:22.666674",
     "status": "completed"
    },
    "tags": []
   },
   "outputs": [
    {
     "name": "stdout",
     "output_type": "stream",
     "text": [
      "Accuracy: 0.8613445378151261\n"
     ]
    }
   ],
   "source": [
    "from sklearn.metrics import accuracy_score\n",
    "\n",
    "\n",
    "\n",
    "\n",
    "y_pred = my_model.predict(X_test)\n",
    "\n",
    "# Calculate the accuracy score\n",
    "accuracy = accuracy_score(y_test, y_pred)\n",
    "print(f\"Accuracy: {accuracy}\")"
   ]
  },
  {
   "cell_type": "code",
   "execution_count": 10,
   "id": "7dbfdb64",
   "metadata": {
    "execution": {
     "iopub.execute_input": "2024-05-21T09:25:22.718194Z",
     "iopub.status.busy": "2024-05-21T09:25:22.717594Z",
     "iopub.status.idle": "2024-05-21T09:25:22.800147Z",
     "shell.execute_reply": "2024-05-21T09:25:22.798845Z"
    },
    "papermill": {
     "duration": 0.094615,
     "end_time": "2024-05-21T09:25:22.802821",
     "exception": false,
     "start_time": "2024-05-21T09:25:22.708206",
     "status": "completed"
    },
    "tags": []
   },
   "outputs": [
    {
     "name": "stdout",
     "output_type": "stream",
     "text": [
      "Accuracy: 0.726890756302521\n"
     ]
    }
   ],
   "source": [
    "from sklearn.svm import SVC\n",
    "my_model_2=SVC(random_state=42)\n",
    "my_model_2.fit(X_train,y_train)\n",
    "y_pred_2 = my_model_2.predict(X_test)\n",
    "accuracy_2 = accuracy_score(y_test, y_pred_2)\n",
    "print(f\"Accuracy: {accuracy_2}\")"
   ]
  },
  {
   "cell_type": "code",
   "execution_count": 11,
   "id": "0cf16d2e",
   "metadata": {
    "execution": {
     "iopub.execute_input": "2024-05-21T09:25:22.813817Z",
     "iopub.status.busy": "2024-05-21T09:25:22.813031Z",
     "iopub.status.idle": "2024-05-21T09:25:22.819620Z",
     "shell.execute_reply": "2024-05-21T09:25:22.818056Z"
    },
    "papermill": {
     "duration": 0.014866,
     "end_time": "2024-05-21T09:25:22.822173",
     "exception": false,
     "start_time": "2024-05-21T09:25:22.807307",
     "status": "completed"
    },
    "tags": []
   },
   "outputs": [],
   "source": [
    "model=my_model#better model"
   ]
  },
  {
   "cell_type": "code",
   "execution_count": null,
   "id": "9331a2b6",
   "metadata": {
    "papermill": {
     "duration": 0.004109,
     "end_time": "2024-05-21T09:25:22.830854",
     "exception": false,
     "start_time": "2024-05-21T09:25:22.826745",
     "status": "completed"
    },
    "tags": []
   },
   "outputs": [],
   "source": []
  }
 ],
 "metadata": {
  "kaggle": {
   "accelerator": "none",
   "dataSources": [
    {
     "datasetId": 4755824,
     "sourceId": 8062170,
     "sourceType": "datasetVersion"
    }
   ],
   "dockerImageVersionId": 30698,
   "isGpuEnabled": false,
   "isInternetEnabled": false,
   "language": "python",
   "sourceType": "notebook"
  },
  "kernelspec": {
   "display_name": "Python 3",
   "language": "python",
   "name": "python3"
  },
  "language_info": {
   "codemirror_mode": {
    "name": "ipython",
    "version": 3
   },
   "file_extension": ".py",
   "mimetype": "text/x-python",
   "name": "python",
   "nbconvert_exporter": "python",
   "pygments_lexer": "ipython3",
   "version": "3.10.13"
  },
  "papermill": {
   "default_parameters": {},
   "duration": 6.677875,
   "end_time": "2024-05-21T09:25:23.457541",
   "environment_variables": {},
   "exception": null,
   "input_path": "__notebook__.ipynb",
   "output_path": "__notebook__.ipynb",
   "parameters": {},
   "start_time": "2024-05-21T09:25:16.779666",
   "version": "2.5.0"
  }
 },
 "nbformat": 4,
 "nbformat_minor": 5
}
