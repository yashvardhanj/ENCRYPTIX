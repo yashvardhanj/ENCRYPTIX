{
 "cells": [
  {
   "cell_type": "code",
   "execution_count": 1,
   "metadata": {
    "_cell_guid": "b1076dfc-b9ad-4769-8c92-a6c4dae69d19",
    "_uuid": "8f2839f25d086af736a60e9eeb907d3b93b6e0e5",
    "execution": {
     "iopub.execute_input": "2024-05-31T00:05:18.139730Z",
     "iopub.status.busy": "2024-05-31T00:05:18.138913Z",
     "iopub.status.idle": "2024-05-31T00:05:19.479306Z",
     "shell.execute_reply": "2024-05-31T00:05:19.477725Z",
     "shell.execute_reply.started": "2024-05-31T00:05:18.139682Z"
    }
   },
   "outputs": [
    {
     "name": "stdout",
     "output_type": "stream",
     "text": [
      "/kaggle/input/genre-classification-dataset-imdb/Genre Classification Dataset/description.txt\n",
      "/kaggle/input/genre-classification-dataset-imdb/Genre Classification Dataset/test_data_solution.txt\n",
      "/kaggle/input/genre-classification-dataset-imdb/Genre Classification Dataset/test_data.txt\n",
      "/kaggle/input/genre-classification-dataset-imdb/Genre Classification Dataset/train_data.txt\n"
     ]
    }
   ],
   "source": [
    "# This Python 3 environment comes with many helpful analytics libraries installed\n",
    "# It is defined by the kaggle/python Docker image: https://github.com/kaggle/docker-python\n",
    "# For example, here's several helpful packages to load\n",
    "\n",
    "import numpy as np # linear algebra\n",
    "import pandas as pd # data processing, CSV file I/O (e.g. pd.read_csv)\n",
    "\n",
    "# Input data files are available in the read-only \"../input/\" directory\n",
    "# For example, running this (by clicking run or pressing Shift+Enter) will list all files under the input directory\n",
    "\n",
    "import os\n",
    "for dirname, _, filenames in os.walk('/kaggle/input'):\n",
    "    for filename in filenames:\n",
    "        print(os.path.join(dirname, filename))\n",
    "\n",
    "# You can write up to 20GB to the current directory (/kaggle/working/) that gets preserved as output when you create a version using \"Save & Run All\" \n",
    "# You can also write temporary files to /kaggle/temp/, but they won't be saved outside of the current session"
   ]
  },
  {
   "cell_type": "code",
   "execution_count": 3,
   "metadata": {
    "execution": {
     "iopub.execute_input": "2024-05-31T00:05:42.874959Z",
     "iopub.status.busy": "2024-05-31T00:05:42.874482Z",
     "iopub.status.idle": "2024-05-31T00:05:42.883493Z",
     "shell.execute_reply": "2024-05-31T00:05:42.882354Z",
     "shell.execute_reply.started": "2024-05-31T00:05:42.874928Z"
    }
   },
   "outputs": [],
   "source": [
    "def load_and_preprocess(filepath, is_test=False):\n",
    "    data = pd.read_csv(filepath, delimiter=' ::: ', engine='python', header=None)\n",
    "    if is_test:\n",
    "        data.columns = ['ID', 'TITLE', 'DESCRIPTION']\n",
    "    else:\n",
    "        data.columns = ['ID', 'TITLE', 'GENRE', 'DESCRIPTION']\n",
    "    data['DESCRIPTION'] = data['DESCRIPTION'].str.lower().str.replace('[^\\w\\s]', '', regex=True)\n",
    "    return data"
   ]
  },
  {
   "cell_type": "code",
   "execution_count": 4,
   "metadata": {
    "execution": {
     "iopub.execute_input": "2024-05-31T00:05:44.569566Z",
     "iopub.status.busy": "2024-05-31T00:05:44.568184Z",
     "iopub.status.idle": "2024-05-31T00:05:52.292203Z",
     "shell.execute_reply": "2024-05-31T00:05:52.291052Z",
     "shell.execute_reply.started": "2024-05-31T00:05:44.569513Z"
    }
   },
   "outputs": [],
   "source": [
    "train_data = load_and_preprocess('/kaggle/input/genre-classification-dataset-imdb/Genre Classification Dataset/train_data.txt')\n",
    "test_data = load_and_preprocess('/kaggle/input/genre-classification-dataset-imdb/Genre Classification Dataset/test_data.txt', is_test=True)\n",
    "test_solution_data = load_and_preprocess('/kaggle/input/genre-classification-dataset-imdb/Genre Classification Dataset/test_data_solution.txt')"
   ]
  },
  {
   "cell_type": "code",
   "execution_count": 7,
   "metadata": {
    "execution": {
     "iopub.execute_input": "2024-05-31T00:08:46.422229Z",
     "iopub.status.busy": "2024-05-31T00:08:46.420844Z",
     "iopub.status.idle": "2024-05-31T00:08:46.428263Z",
     "shell.execute_reply": "2024-05-31T00:08:46.426803Z",
     "shell.execute_reply.started": "2024-05-31T00:08:46.422189Z"
    }
   },
   "outputs": [],
   "source": [
    "X_train = train_data['DESCRIPTION']\n",
    "y_train = train_data['GENRE']\n",
    "X_test = test_data['DESCRIPTION']\n",
    "y_test = test_solution_data['GENRE']"
   ]
  },
  {
   "cell_type": "code",
   "execution_count": 8,
   "metadata": {
    "execution": {
     "iopub.execute_input": "2024-05-31T00:08:48.579230Z",
     "iopub.status.busy": "2024-05-31T00:08:48.578777Z",
     "iopub.status.idle": "2024-05-31T00:08:48.590593Z",
     "shell.execute_reply": "2024-05-31T00:08:48.589220Z",
     "shell.execute_reply.started": "2024-05-31T00:08:48.579195Z"
    }
   },
   "outputs": [
    {
     "data": {
      "text/plain": [
       "0        listening in to a conversation between his doc...\n",
       "1        a brother and sister with a past incestuous re...\n",
       "2        as the bus empties the students for their fiel...\n",
       "3        to help their unemployed father make ends meet...\n",
       "4        the films title refers not only to the unrecov...\n",
       "                               ...                        \n",
       "54209    this shortlived nbc live sitcom centered on bo...\n",
       "54210    the next generation of exploitation the sister...\n",
       "54211    ze bestaan echt is a standup comedy about grow...\n",
       "54212    walter and vivian live in the country and have...\n",
       "54213    on labor day weekend 1935 the most intense hur...\n",
       "Name: DESCRIPTION, Length: 54214, dtype: object"
      ]
     },
     "execution_count": 8,
     "metadata": {},
     "output_type": "execute_result"
    }
   ],
   "source": [
    "X_train"
   ]
  },
  {
   "cell_type": "code",
   "execution_count": 9,
   "metadata": {
    "execution": {
     "iopub.execute_input": "2024-05-31T00:08:51.088752Z",
     "iopub.status.busy": "2024-05-31T00:08:51.087496Z",
     "iopub.status.idle": "2024-05-31T00:09:04.883229Z",
     "shell.execute_reply": "2024-05-31T00:09:04.881920Z",
     "shell.execute_reply.started": "2024-05-31T00:08:51.088710Z"
    }
   },
   "outputs": [],
   "source": [
    "from sklearn.feature_extraction.text import TfidfVectorizer\n",
    "vectorizer = TfidfVectorizer(stop_words='english', max_df=0.7)\n",
    "X_train_tfidf = vectorizer.fit_transform(X_train)\n",
    "X_test_tfidf = vectorizer.transform(X_test)"
   ]
  },
  {
   "cell_type": "code",
   "execution_count": 10,
   "metadata": {
    "execution": {
     "iopub.execute_input": "2024-05-31T00:09:38.866153Z",
     "iopub.status.busy": "2024-05-31T00:09:38.865734Z",
     "iopub.status.idle": "2024-05-31T00:09:39.616889Z",
     "shell.execute_reply": "2024-05-31T00:09:39.615497Z",
     "shell.execute_reply.started": "2024-05-31T00:09:38.866123Z"
    }
   },
   "outputs": [
    {
     "data": {
      "text/html": [
       "<style>#sk-container-id-1 {color: black;background-color: white;}#sk-container-id-1 pre{padding: 0;}#sk-container-id-1 div.sk-toggleable {background-color: white;}#sk-container-id-1 label.sk-toggleable__label {cursor: pointer;display: block;width: 100%;margin-bottom: 0;padding: 0.3em;box-sizing: border-box;text-align: center;}#sk-container-id-1 label.sk-toggleable__label-arrow:before {content: \"▸\";float: left;margin-right: 0.25em;color: #696969;}#sk-container-id-1 label.sk-toggleable__label-arrow:hover:before {color: black;}#sk-container-id-1 div.sk-estimator:hover label.sk-toggleable__label-arrow:before {color: black;}#sk-container-id-1 div.sk-toggleable__content {max-height: 0;max-width: 0;overflow: hidden;text-align: left;background-color: #f0f8ff;}#sk-container-id-1 div.sk-toggleable__content pre {margin: 0.2em;color: black;border-radius: 0.25em;background-color: #f0f8ff;}#sk-container-id-1 input.sk-toggleable__control:checked~div.sk-toggleable__content {max-height: 200px;max-width: 100%;overflow: auto;}#sk-container-id-1 input.sk-toggleable__control:checked~label.sk-toggleable__label-arrow:before {content: \"▾\";}#sk-container-id-1 div.sk-estimator input.sk-toggleable__control:checked~label.sk-toggleable__label {background-color: #d4ebff;}#sk-container-id-1 div.sk-label input.sk-toggleable__control:checked~label.sk-toggleable__label {background-color: #d4ebff;}#sk-container-id-1 input.sk-hidden--visually {border: 0;clip: rect(1px 1px 1px 1px);clip: rect(1px, 1px, 1px, 1px);height: 1px;margin: -1px;overflow: hidden;padding: 0;position: absolute;width: 1px;}#sk-container-id-1 div.sk-estimator {font-family: monospace;background-color: #f0f8ff;border: 1px dotted black;border-radius: 0.25em;box-sizing: border-box;margin-bottom: 0.5em;}#sk-container-id-1 div.sk-estimator:hover {background-color: #d4ebff;}#sk-container-id-1 div.sk-parallel-item::after {content: \"\";width: 100%;border-bottom: 1px solid gray;flex-grow: 1;}#sk-container-id-1 div.sk-label:hover label.sk-toggleable__label {background-color: #d4ebff;}#sk-container-id-1 div.sk-serial::before {content: \"\";position: absolute;border-left: 1px solid gray;box-sizing: border-box;top: 0;bottom: 0;left: 50%;z-index: 0;}#sk-container-id-1 div.sk-serial {display: flex;flex-direction: column;align-items: center;background-color: white;padding-right: 0.2em;padding-left: 0.2em;position: relative;}#sk-container-id-1 div.sk-item {position: relative;z-index: 1;}#sk-container-id-1 div.sk-parallel {display: flex;align-items: stretch;justify-content: center;background-color: white;position: relative;}#sk-container-id-1 div.sk-item::before, #sk-container-id-1 div.sk-parallel-item::before {content: \"\";position: absolute;border-left: 1px solid gray;box-sizing: border-box;top: 0;bottom: 0;left: 50%;z-index: -1;}#sk-container-id-1 div.sk-parallel-item {display: flex;flex-direction: column;z-index: 1;position: relative;background-color: white;}#sk-container-id-1 div.sk-parallel-item:first-child::after {align-self: flex-end;width: 50%;}#sk-container-id-1 div.sk-parallel-item:last-child::after {align-self: flex-start;width: 50%;}#sk-container-id-1 div.sk-parallel-item:only-child::after {width: 0;}#sk-container-id-1 div.sk-dashed-wrapped {border: 1px dashed gray;margin: 0 0.4em 0.5em 0.4em;box-sizing: border-box;padding-bottom: 0.4em;background-color: white;}#sk-container-id-1 div.sk-label label {font-family: monospace;font-weight: bold;display: inline-block;line-height: 1.2em;}#sk-container-id-1 div.sk-label-container {text-align: center;}#sk-container-id-1 div.sk-container {/* jupyter's `normalize.less` sets `[hidden] { display: none; }` but bootstrap.min.css set `[hidden] { display: none !important; }` so we also need the `!important` here to be able to override the default hidden behavior on the sphinx rendered scikit-learn.org. See: https://github.com/scikit-learn/scikit-learn/issues/21755 */display: inline-block !important;position: relative;}#sk-container-id-1 div.sk-text-repr-fallback {display: none;}</style><div id=\"sk-container-id-1\" class=\"sk-top-container\"><div class=\"sk-text-repr-fallback\"><pre>MultinomialNB()</pre><b>In a Jupyter environment, please rerun this cell to show the HTML representation or trust the notebook. <br />On GitHub, the HTML representation is unable to render, please try loading this page with nbviewer.org.</b></div><div class=\"sk-container\" hidden><div class=\"sk-item\"><div class=\"sk-estimator sk-toggleable\"><input class=\"sk-toggleable__control sk-hidden--visually\" id=\"sk-estimator-id-1\" type=\"checkbox\" checked><label for=\"sk-estimator-id-1\" class=\"sk-toggleable__label sk-toggleable__label-arrow\">MultinomialNB</label><div class=\"sk-toggleable__content\"><pre>MultinomialNB()</pre></div></div></div></div></div>"
      ],
      "text/plain": [
       "MultinomialNB()"
      ]
     },
     "execution_count": 10,
     "metadata": {},
     "output_type": "execute_result"
    }
   ],
   "source": [
    "from sklearn.naive_bayes import MultinomialNB\n",
    "nb_model = MultinomialNB()\n",
    "nb_model.fit(X_train_tfidf, y_train)"
   ]
  },
  {
   "cell_type": "code",
   "execution_count": 11,
   "metadata": {
    "execution": {
     "iopub.execute_input": "2024-05-31T00:10:00.391878Z",
     "iopub.status.busy": "2024-05-31T00:10:00.391418Z",
     "iopub.status.idle": "2024-05-31T00:10:00.503335Z",
     "shell.execute_reply": "2024-05-31T00:10:00.502098Z",
     "shell.execute_reply.started": "2024-05-31T00:10:00.391844Z"
    }
   },
   "outputs": [],
   "source": [
    "from sklearn.metrics import accuracy_score\n",
    "nb_predictions = nb_model.predict(X_test_tfidf)"
   ]
  },
  {
   "cell_type": "code",
   "execution_count": 14,
   "metadata": {
    "execution": {
     "iopub.execute_input": "2024-05-31T00:10:35.159345Z",
     "iopub.status.busy": "2024-05-31T00:10:35.158943Z",
     "iopub.status.idle": "2024-05-31T00:10:35.243934Z",
     "shell.execute_reply": "2024-05-31T00:10:35.242592Z",
     "shell.execute_reply.started": "2024-05-31T00:10:35.159316Z"
    }
   },
   "outputs": [
    {
     "name": "stdout",
     "output_type": "stream",
     "text": [
      "Accuracy: 44.3948%\n"
     ]
    }
   ],
   "source": [
    "print(f\"Accuracy: {accuracy_score(y_test, nb_predictions)*100:.4f}%\")"
   ]
  },
  {
   "cell_type": "code",
   "execution_count": null,
   "metadata": {},
   "outputs": [],
   "source": []
  }
 ],
 "metadata": {
  "kaggle": {
   "accelerator": "none",
   "dataSources": [
    {
     "datasetId": 1417162,
     "sourceId": 2347441,
     "sourceType": "datasetVersion"
    }
   ],
   "dockerImageVersionId": 30698,
   "isGpuEnabled": false,
   "isInternetEnabled": true,
   "language": "python",
   "sourceType": "notebook"
  },
  "kernelspec": {
   "display_name": "Python 3 (ipykernel)",
   "language": "python",
   "name": "python3"
  },
  "language_info": {
   "codemirror_mode": {
    "name": "ipython",
    "version": 3
   },
   "file_extension": ".py",
   "mimetype": "text/x-python",
   "name": "python",
   "nbconvert_exporter": "python",
   "pygments_lexer": "ipython3",
   "version": "3.11.7"
  }
 },
 "nbformat": 4,
 "nbformat_minor": 4
}
